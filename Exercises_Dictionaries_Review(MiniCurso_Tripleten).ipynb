{
  "nbformat": 4,
  "nbformat_minor": 0,
  "metadata": {
    "colab": {
      "provenance": [],
      "include_colab_link": true
    },
    "kernelspec": {
      "name": "python3",
      "display_name": "Python 3"
    },
    "language_info": {
      "name": "python"
    }
  },
  "cells": [
    {
      "cell_type": "markdown",
      "metadata": {
        "id": "view-in-github",
        "colab_type": "text"
      },
      "source": [
        "<a href=\"https://colab.research.google.com/github/JuanCGarciaA/Minicurso-Data-Analyst/blob/main/Exercises_Dictionaries_Review(MiniCurso_Tripleten).ipynb\" target=\"_parent\"><img src=\"https://colab.research.google.com/assets/colab-badge.svg\" alt=\"Open In Colab\"/></a>"
      ]
    },
    {
      "cell_type": "markdown",
      "source": [
        "# Diccionarios en Python\n",
        "\n",
        "Los diccionarios son una estructura de datos en Python que consiste en asociar una llave a un valor. Como analogía, podemos pensar que cada valor dentro de un diccionario tiene un nombre, que es la llave.\n",
        "\n",
        "Podemos traer el valor con la llave de un diccionario de estas dos formas:\n",
        "```python\n",
        "my_dict[\"key_name\"]\n",
        "my_dict.get(\"key_name\")\n",
        "```\n",
        "\n",
        "El método `.get()` recibe un argumento opcional para arrojar un valor en caso de que no encuentre la llave dentro del diccionario.\n",
        "\n",
        "Para llamar a todas las llaves dentro de un diccionario, usamos el siguiente método:\n",
        "```python\n",
        "my_dict.keys()\n",
        "```\n",
        "\n",
        "Para llamar a todos los valores dentro de un diccionar, usamos el siguiente método:\n",
        "```python\n",
        "my_dict.values()\n",
        "```\n",
        "\n",
        "Para llamar a todas las parejas de llaves-valores, usamos el siguiente método:\n",
        "```python\n",
        "my_dict.items()\n",
        "```"
      ],
      "metadata": {
        "id": "ilT15qCVDA_G"
      }
    },
    {
      "cell_type": "code",
      "source": [
        "my_dict = {\"a\": 1, \"b\": 1, \"c\": 3}\n",
        "\n",
        "my_dict.items()"
      ],
      "metadata": {
        "colab": {
          "base_uri": "https://localhost:8080/"
        },
        "id": "asOwqw3vAt1W",
        "outputId": "6a7f8c57-640c-45a8-83ea-626fe9d22e5c"
      },
      "execution_count": null,
      "outputs": [
        {
          "output_type": "execute_result",
          "data": {
            "text/plain": [
              "dict_items([('a', 1), ('b', 1), ('c', 3)])"
            ]
          },
          "metadata": {},
          "execution_count": 1
        }
      ]
    },
    {
      "cell_type": "markdown",
      "source": [
        "# Ejercicio 1\n",
        "\n",
        "Dado un diccionario, determina si existen valores duplicados.\n",
        "\n",
        "Tu función debería de regresar un valor booleano determinando si existen valores duplicados dentro del diccionaro.\n",
        "\n",
        "Tu código debería de pasar las pruebas escritas más abajo."
      ],
      "metadata": {
        "id": "BKq7WcyhEY-1"
      }
    },
    {
      "cell_type": "code",
      "source": [
        "def has_duplicate_values(test_dict):\n",
        "  unic_vals = set()\n",
        "\n",
        "  for elem in test_dict.values():\n",
        "    if elem in unic_vals:\n",
        "      return True\n",
        "    unic_vals.add(elem)\n",
        "\n",
        "  return False"
      ],
      "metadata": {
        "id": "hu6jFe7AHxqw"
      },
      "execution_count": null,
      "outputs": []
    },
    {
      "cell_type": "code",
      "source": [
        "dict1 = {\"a\": 1, \"b\": 1, \"c\": 3}\n",
        "dict2 = {\"a\": 1, \"b\": 2, \"c\": 3}\n",
        "dict3 = {\"a\": 1}\n",
        "\n",
        "print(has_duplicate_values(dict1) == True)\n",
        "print(has_duplicate_values(dict2) == False)\n",
        "print(has_duplicate_values(dict3) == False)"
      ],
      "metadata": {
        "id": "bLp4yXHqIEAE",
        "colab": {
          "base_uri": "https://localhost:8080/"
        },
        "outputId": "f7ae42ca-31a7-40ed-a51a-d5f820ea0e3d"
      },
      "execution_count": null,
      "outputs": [
        {
          "output_type": "stream",
          "name": "stdout",
          "text": [
            "True\n",
            "True\n",
            "True\n"
          ]
        }
      ]
    },
    {
      "cell_type": "markdown",
      "source": [
        "# Ejercicio 2\n",
        "\n",
        "Imagina que estamos siendo contactados por un amigo que encripta sus mensajes. Los mensajes solo contienen un número y la manera de desencriptar sus mensajes es sumando la cantidad de digitos pares en el número que nos envía.\n",
        "\n",
        "Completa la siguiente función para regresar el mensaje desencriptado.\n",
        "\n",
        "Tu código debería de pasar las pruebas escritas más abajo."
      ],
      "metadata": {
        "id": "7wb2I2p5Et4g"
      }
    },
    {
      "cell_type": "code",
      "source": [
        "def unhash_message(number):\n",
        "  cnt = 0\n",
        "  for dig in str(number):\n",
        "    if (is_par(int(dig))):\n",
        "      cnt += 1\n",
        "  return cnt\n"
      ],
      "metadata": {
        "id": "ERKOvyP-GeHW"
      },
      "execution_count": null,
      "outputs": []
    },
    {
      "cell_type": "code",
      "source": [
        "def is_par(number):\n",
        "  #Se verifica si el residuo es 0 para comprobar que es par.\n",
        "  if(number % 2 == 0):\n",
        "    return True\n",
        "  else:\n",
        "    return False"
      ],
      "metadata": {
        "id": "02hlll269te8"
      },
      "execution_count": null,
      "outputs": []
    },
    {
      "cell_type": "code",
      "source": [
        "number1 = 123456\n",
        "number2 = 82531\n",
        "number3 = 88888\n",
        "\n",
        "print(unhash_message(number1) == 3)\n",
        "print(unhash_message(number2) == 2)\n",
        "print(unhash_message(number3) == 5)"
      ],
      "metadata": {
        "id": "OZIHKo4WGldb",
        "colab": {
          "base_uri": "https://localhost:8080/"
        },
        "outputId": "4e3926e8-be7b-499d-923d-c084c8afcde2"
      },
      "execution_count": null,
      "outputs": [
        {
          "output_type": "stream",
          "name": "stdout",
          "text": [
            "True\n",
            "True\n",
            "True\n"
          ]
        }
      ]
    },
    {
      "cell_type": "markdown",
      "source": [
        "# Ejercicio 3\n",
        "\n",
        "Dadas una lista de llaves y una lista de valores, únelas para crear un diccionario.\n",
        "\n",
        "Tu función debería de regresar un diccionario con las llaves igual a la lista de llaves y los valores igual a la lista de valores."
      ],
      "metadata": {
        "id": "lrg-ujdHKq3n"
      }
    },
    {
      "cell_type": "code",
      "source": [
        "def lists_to_dict(keys, values):\n",
        "  d = dict(zip(keys, values))\n",
        "  return d"
      ],
      "metadata": {
        "id": "fUWvowYAKrI0"
      },
      "execution_count": null,
      "outputs": []
    },
    {
      "cell_type": "code",
      "source": [
        "keys1 = [\"a\", \"b\", \"c\"]\n",
        "values1 = [1, 2, 3]\n",
        "\n",
        "print(lists_to_dict(keys1, values1) == {\"a\": 1, \"b\": 2, \"c\": 3})"
      ],
      "metadata": {
        "id": "btqzzJ-lKrRZ",
        "colab": {
          "base_uri": "https://localhost:8080/"
        },
        "outputId": "ed25c6eb-91ad-4fb6-ea49-dff27bf84c8f"
      },
      "execution_count": null,
      "outputs": [
        {
          "output_type": "stream",
          "name": "stdout",
          "text": [
            "True\n"
          ]
        }
      ]
    },
    {
      "cell_type": "markdown",
      "source": [
        "# Ejercicio 4\n",
        "\n",
        "Imagina que tenemos un diccionario que contiene listas como valores. Escribe una función que arroje un diccionario con el número de elementos en cada lista.\n",
        "\n",
        "Tu función debería de arrojar un diccionario con las mismas llaves que el diccionario original, pero con el número de elementos de la lista como valores.\n",
        "\n",
        "Tip: recuerda que para agregar o actualizar valores en un diccionario usamos el método `.update()`.\n",
        "\n",
        "Tu código debería de pasar las pruebas escritas más abajo."
      ],
      "metadata": {
        "id": "DV8IH4v1EuOt"
      }
    },
    {
      "cell_type": "code",
      "source": [
        "def count_elements(test_dict):\n",
        "  for element in test_dict:\n",
        "    test_dict.update({element : len(test_dict[element])})\n",
        "  return test_dict"
      ],
      "metadata": {
        "id": "K4C4fKjKIlMe"
      },
      "execution_count": null,
      "outputs": []
    },
    {
      "cell_type": "code",
      "source": [
        "dict1 = {\"a\": [1, 2], \"b\": [4, 5, 6], \"c\": [0]}\n",
        "dict2 = {\"a\": [9, 8, 7], \"b\": [4, 5, 6]}\n",
        "\n",
        "print(count_elements(dict1) == {\"a\": 2, \"b\": 3, \"c\": 1})\n",
        "print(count_elements(dict2) == {\"a\": 3, \"b\": 3})"
      ],
      "metadata": {
        "id": "jrPcCfZYIlUk",
        "colab": {
          "base_uri": "https://localhost:8080/"
        },
        "outputId": "812240ab-1d8a-40db-eeef-355ac66789ef"
      },
      "execution_count": null,
      "outputs": [
        {
          "output_type": "stream",
          "name": "stdout",
          "text": [
            "True\n",
            "True\n"
          ]
        }
      ]
    },
    {
      "cell_type": "markdown",
      "source": [
        "# Ejercicio 5\n",
        "\n",
        "Imagina que trabajas en una tienda que vende productos de oficina. Existe un catálogo oficial con los precios a los que se deberían de vender los productos. Sin embargo, el precio al que se vende realmente puede llegar a diferir porque este precio lo introduce manualmente el vendedor.\n",
        "\n",
        "El objetivo de esta tarea es calcular la cantidad de errores por producto entre el precio del catálogo y el precio al que se vendió. La función va a tomar 3 arguments:\n",
        "- el catálogo con el precio correcto de cada producto (diccionario)\n",
        "- una lista con los productos vendidos\n",
        "- una lista con los precios a los que se vendió el producto\n",
        "\n",
        "La función debería de arrojar un diccionario donde sus llaves el nombre del producto y como valores el número de errores en el precio vendido.\n",
        "\n",
        "Tu código debería de pasar las pruebas escritas más abajo."
      ],
      "metadata": {
        "id": "IXGN6qMNEuYE"
      }
    },
    {
      "cell_type": "code",
      "execution_count": null,
      "metadata": {
        "id": "pSOuMC9-C-ke"
      },
      "outputs": [],
      "source": [
        "def get_errors(catalog, products_sold, price_sold):\n",
        "  #Variable para guardar los errores\n",
        "  error = {}\n",
        "  #Iteramos en el listado de productos vendidos.\n",
        "  for product, price in zip(products_sold, price_sold):\n",
        "    correct_price = catalog.get(product)\n",
        "    if correct_price != price:\n",
        "      if product in error:\n",
        "        error[product] += 1\n",
        "      else:\n",
        "        error[product] = 1\n",
        "    else:\n",
        "      if (error.get(product) == None):\n",
        "        error[product] = 0\n",
        "  return error\n",
        "\n"
      ]
    },
    {
      "cell_type": "code",
      "source": [
        "catalog = {\"papel\": 5, \"lapiz\": 10, \"cuaderno\": 50, \"goma\": 8}\n",
        "products_sold = [\"papel\", \"papel\", \"lapiz\", \"cuaderno\", \"goma\", \"goma\", \"papel\"]\n",
        "price_sold = [4, 5, 9, 50, 8, 9, 6]\n",
        "\n",
        "print(get_errors(catalog, products_sold, price_sold) == {\"papel\": 2, \"lapiz\": 1, \"cuaderno\": 0, \"goma\": 1})"
      ],
      "metadata": {
        "id": "g1_QTqi4Ilz9",
        "colab": {
          "base_uri": "https://localhost:8080/"
        },
        "outputId": "f1ab4355-eb29-4d4a-da00-c56c01184576"
      },
      "execution_count": null,
      "outputs": [
        {
          "output_type": "stream",
          "name": "stdout",
          "text": [
            "True\n"
          ]
        }
      ]
    },
    {
      "cell_type": "markdown",
      "source": [
        "# Adicional\n",
        "\n",
        "- [Exercises - Dictionaries Review (Respuestas)](https://colab.research.google.com/drive/1aX_d7vYgfrSAg7VEHXTS5WtvhwyMhnB8?usp=sharing)"
      ],
      "metadata": {
        "id": "ef-rUpzYrymM"
      }
    }
  ]
}